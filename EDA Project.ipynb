{
 "cells": [
  {
   "cell_type": "code",
   "execution_count": null,
   "metadata": {},
   "outputs": [],
   "source": [
    "import pandas as pd\n",
    "import seaborn as sns\n",
    "import matplotlib.pyplot as plt"
   ]
  },
  {
   "cell_type": "code",
   "execution_count": null,
   "metadata": {},
   "outputs": [],
   "source": [
    "file_path = 'C:/Users/Mahad/Downloads/zomato_restaurants_in_India.csv'\n",
    "data = pd.read_csv(file_path)"
   ]
  },
  {
   "cell_type": "code",
   "execution_count": null,
   "metadata": {},
   "outputs": [],
   "source": [
    "data.info()"
   ]
  },
  {
   "cell_type": "code",
   "execution_count": null,
   "metadata": {},
   "outputs": [],
   "source": [
    "data.head()"
   ]
  },
  {
   "cell_type": "markdown",
   "metadata": {},
   "source": [
    "# Data Cleaning and Preparation Steps:"
   ]
  },
  {
   "cell_type": "code",
   "execution_count": null,
   "metadata": {},
   "outputs": [],
   "source": [
    "data['address'].fillna('Unknown', inplace=True)  \n",
    "data['timings'].fillna('Not available', inplace=True)  \n",
    "data['cuisines'].fillna(data['cuisines'].mode()[0], inplace=True)  \n",
    "\n",
    "\n",
    "data['votes'] = data['votes'].apply(lambda x: max(x, 0))  \n",
    "\n",
    "\n",
    "import ast  \n",
    "data['establishment'] = data['establishment'].apply(ast.literal_eval)\n",
    "data['highlights'] = data['highlights'].apply(ast.literal_eval)\n",
    "\n",
    "\n",
    "data['number_of_highlights'] = data['highlights'].apply(len)\n",
    "\n",
    "\n",
    "desc_stats = data.describe()\n",
    "\n",
    "\n",
    "import seaborn as sns\n",
    "import matplotlib.pyplot as plt\n",
    "\n",
    "\n",
    "sns.set(style=\"whitegrid\")\n",
    "\n",
    "\n",
    "fig, axes = plt.subplots(1, 2, figsize=(14, 6))\n",
    "\n",
    "\n",
    "sns.histplot(data['aggregate_rating'], kde=True, ax=axes[0])\n",
    "axes[0].set_title('Distribution of Aggregate Ratings')\n",
    "\n",
    "\n",
    "sns.countplot(x='price_range', data=data, ax=axes[1])\n",
    "axes[1].set_title('Distribution of Price Range')\n",
    "\n",
    "plt.show()\n",
    "\n",
    "\n",
    "correlation_matrix = data[['aggregate_rating', 'average_cost_for_two', 'votes', 'number_of_highlights']].corr()\n",
    "\n",
    "\n",
    "desc_stats, correlation_matrix"
   ]
  },
  {
   "cell_type": "markdown",
   "metadata": {},
   "source": [
    "# Detailed Exploratory Data Analysis (EDA) Code"
   ]
  },
  {
   "cell_type": "code",
   "execution_count": null,
   "metadata": {},
   "outputs": [],
   "source": [
    "central_tendency = data[['aggregate_rating', 'average_cost_for_two', 'number_of_highlights']].agg(['mean', 'median'])\n",
    "\n",
    "\n",
    "dispersion = data[['aggregate_rating', 'average_cost_for_two', 'number_of_highlights']].agg(['std', 'min', 'max'])\n",
    "\n",
    "shape = data[['aggregate_rating', 'average_cost_for_two', 'number_of_highlights']].agg(['skew', 'kurt'])\n",
    "\n",
    "\n",
    "fig, axes = plt.subplots(3, 1, figsize=(10, 15))\n",
    "\n",
    "\n",
    "sns.histplot(data['aggregate_rating'], bins=20, kde=True, ax=axes[0])\n",
    "axes[0].set_title('Distribution of Aggregate Ratings')\n",
    "\n",
    "\n",
    "sns.countplot(x='price_range', data=data, ax=axes[1])\n",
    "axes[1].set_title('Distribution of Price Range')\n",
    "\n",
    "\n",
    "top_cuisines = data['cuisines'].value_counts().head(10)\n",
    "sns.barplot(x=top_cuisines.values, y=top_cuisines.index, ax=axes[2])\n",
    "axes[2].set_title('Top 10 Most Common Cuisines')\n",
    "\n",
    "plt.tight_layout()\n",
    "\n",
    "\n",
    "correlation_matrix = data[['aggregate_rating', 'average_cost_for_two', 'votes', 'number_of_highlights']].corr()\n",
    "\n",
    "\n",
    "plt.figure(figsize=(8, 6))\n",
    "sns.heatmap(correlation_matrix, annot=True, fmt=\".2f\", cmap='coolwarm')\n",
    "plt.title('Correlation Matrix')\n",
    "\n",
    "plt.show()\n",
    "\n",
    "\n",
    "central_tendency, dispersion, shape"
   ]
  },
  {
   "cell_type": "markdown",
   "metadata": {},
   "source": [
    "# Regional Analysis: EDA Code"
   ]
  },
  {
   "cell_type": "code",
   "execution_count": null,
   "metadata": {},
   "outputs": [],
   "source": [
    "city_group = data.groupby('city').agg({\n",
    "    'res_id': 'count',  \n",
    "    'average_cost_for_two': 'mean',  \n",
    "    'aggregate_rating': 'mean',  \n",
    "    'number_of_highlights': 'mean'  \n",
    "}).rename(columns={'res_id': 'number_of_restaurants'}).sort_values(by='number_of_restaurants', ascending=False)\n",
    "\n",
    "# Top 10 cities by number of restaurant.\n",
    "top_cities = city_group.head(10)\n",
    "\n",
    "# Plotting the distribution of restaurants, average cost, and ratings in these cities\n",
    "fig, ax = plt.subplots(3, 1, figsize=(10, 15))\n",
    "\n",
    "# Number of restaurants per city\n",
    "sns.barplot(x=top_cities['number_of_restaurants'], y=top_cities.index, ax=ax[0])\n",
    "ax[0].set_title('Number of Restaurants per City')\n",
    "\n",
    "# Average cost for two per city\n",
    "sns.barplot(x=top_cities['average_cost_for_two'], y=top_cities.index, ax=ax[1])\n",
    "ax[1].set_title('Average Cost for Two per City')\n",
    "\n",
    "# Average rating per city\n",
    "sns.barplot(x=top_cities['aggregate_rating'], y=top_cities.index, ax=ax[2])\n",
    "ax[2].set_title('Average Aggregate Rating per City')\n",
    "\n",
    "plt.tight_layout()\n",
    "\n",
    "# Unique characteristics per city: using mode of cuisines and highlights\n",
    "city_characteristics = data.groupby('city').agg({\n",
    "    'cuisines': lambda x: pd.Series.mode(x)[0],  \n",
    "    'highlights': lambda x: pd.Series.mode(x)[0]  \n",
    "})\n",
    "\n",
    "city_characteristics.head(10)"
   ]
  },
  {
   "cell_type": "markdown",
   "metadata": {},
   "source": [
    "# Customer Preference Analysis:\n"
   ]
  },
  {
   "cell_type": "code",
   "execution_count": null,
   "metadata": {},
   "outputs": [],
   "source": [
    "# Analyzing types of cuisines that are popular in different regions\n",
    "city_cuisine_counts = data.groupby(['city', 'cuisines']).size().reset_index(name='count')\n",
    "most_popular_cuisine_per_city = city_cuisine_counts.groupby('city').apply(lambda x: x.loc[x['count'].idxmax()])\n",
    "\n",
    "# Examine the relationship between restaurant ratings, price range, and popularity\n",
    "plt.figure(figsize=(10, 6))\n",
    "sns.scatterplot(x='average_cost_for_two', y='aggregate_rating', hue='price_range', data=data, palette='viridis')\n",
    "plt.title('Relationship between Restaurant Ratings, Price Range, and Popularity')\n",
    "plt.xlabel('Average Cost for Two')\n",
    "plt.ylabel('Aggregate Rating')\n",
    "plt.legend(title='Price Range')\n",
    "plt.show()\n",
    "\n",
    "plt.figure(figsize=(10, 6))\n",
    "sns.scatterplot(x='votes', y='aggregate_rating', data=data, color='blue')\n",
    "plt.title('Relationship between Restaurant Ratings and Popularity (Votes)')\n",
    "plt.xlabel('Votes')\n",
    "plt.ylabel('Aggregate Rating')\n",
    "plt.show()\n",
    "\n",
    "# Correlation Analysis\n",
    "correlation_matrix = data[['aggregate_rating', 'average_cost_for_two', 'votes']].corr()\n",
    "print(correlation_matrix)\n",
    "\n",
    "# Display the most popular cuisine per city\n",
    "print(most_popular_cuisine_per_city.head())"
   ]
  },
  {
   "cell_type": "markdown",
   "metadata": {},
   "source": [
    "# Competitive Analysis:\n"
   ]
  },
  {
   "cell_type": "code",
   "execution_count": null,
   "metadata": {},
   "outputs": [],
   "source": [
    "# Grouping data by city, cuisine, and price range to get an average rating for each group\n",
    "competitive_groups = data.groupby(['city', 'cuisines', 'price_range']).agg({\n",
    "    'aggregate_rating': 'mean',\n",
    "    'votes': 'sum'  # Sum of votes to gauge popularity\n",
    "}).reset_index()\n",
    "\n",
    "# Identifying the top competitors in each city by highest average rating and most votes within each price range\n",
    "top_competitors_per_city = competitive_groups.groupby(['city', 'price_range']).apply(\n",
    "    lambda x: x.nlargest(1, ['aggregate_rating', 'votes'])\n",
    ").reset_index(drop=True)\n",
    "\n",
    "# Calculate average metrics for each city (for comparison)\n",
    "average_metrics_city = data.groupby('city').agg({\n",
    "    'aggregate_rating': 'mean',\n",
    "    'average_cost_for_two': 'mean',\n",
    "    'votes': 'mean'\n",
    "}).reset_index()\n",
    "\n",
    "# Merge top competitors with city averages to analyze strengths and weaknesses\n",
    "competitive_analysis = pd.merge(top_competitors_per_city, average_metrics_city, on='city', suffixes=('_comp', '_avg'))\n",
    "\n",
    "# Calculate differences to identify strengths and weaknesses\n",
    "competitive_analysis['rating_diff'] = competitive_analysis['aggregate_rating_comp'] - competitive_analysis['aggregate_rating_avg']\n",
    "competitive_analysis['votes_diff'] = competitive_analysis['votes_comp'] - competitive_analysis['votes_avg']\n",
    "\n",
    "# Visualizing the top competitors in a sample city for illustration\n",
    "sample_city_data = competitive_analysis[competitive_analysis['city'] == 'Bangalore']\n",
    "plt.figure(figsize=(12, 6))\n",
    "sns.barplot(x='cuisines', y='rating_diff', hue='price_range', data=sample_city_data)\n",
    "plt.title('Competitive Strengths and Weaknesses in Bangalore')\n",
    "plt.xlabel('Cuisine')\n",
    "plt.ylabel('Rating Difference From City Average')\n",
    "plt.legend(title='Price Range')\n",
    "plt.xticks(rotation=45)\n",
    "plt.show()"
   ]
  },
  {
   "cell_type": "markdown",
   "metadata": {},
   "source": [
    "# Market Gap Analysis:"
   ]
  },
  {
   "cell_type": "code",
   "execution_count": null,
   "metadata": {},
   "outputs": [],
   "source": [
    "# Count of cuisines by city to find underrepresented cuisines\n",
    "cuisine_distribution = data.groupby(['city', 'cuisines']).size().reset_index(name='count')\n",
    "city_cuisine_totals = cuisine_distribution.groupby('city')['count'].sum().reset_index(name='total_cuisines')\n",
    "cuisine_market_share = pd.merge(cuisine_distribution, city_cuisine_totals, on='city')\n",
    "cuisine_market_share['market_share'] = cuisine_market_share['count'] / cuisine_market_share['total_cuisines']\n",
    "\n",
    "# Finding cities with the lowest market share for popular cuisines\n",
    "# This indicates potential gaps where these cuisines are underrepresented\n",
    "potential_gaps = cuisine_market_share[cuisine_market_share['market_share'] < 0.01]  # Threshold for underrepresentation\n",
    "\n",
    "# Analyzing price ranges across different cities to find underrepresented price ranges\n",
    "price_range_distribution = data.groupby(['city', 'price_range']).size().reset_index(name='count')\n",
    "city_price_totals = price_range_distribution.groupby('city')['count'].sum().reset_index(name='total_price_counts')\n",
    "price_market_share = pd.merge(price_range_distribution, city_price_totals, on='city')\n",
    "price_market_share['market_share'] = price_market_share['count'] / price_market_share['total_price_counts']\n",
    "\n",
    "# Finding cities with the lowest market share for certain price ranges\n",
    "# This identifies price ranges that might be underexploited\n",
    "underrepresented_prices = price_market_share[price_market_share['market_share'] < 0.05]  # Threshold for underrepresentation\n",
    "\n",
    "# Visualizing the findings for potential market gaps\n",
    "plt.figure(figsize=(12, 6))\n",
    "sns.barplot(x='cuisines', y='market_share', hue='city', data=potential_gaps)\n",
    "plt.title('Underrepresented Cuisines by City')\n",
    "plt.xlabel('Cuisine')\n",
    "plt.ylabel('Market Share')\n",
    "plt.xticks(rotation=45)\n",
    "plt.legend(title='City')\n",
    "plt.tight_layout()\n",
    "plt.show()\n",
    "\n",
    "plt.figure(figsize=(12, 6))\n",
    "sns.barplot(x='price_range', y='market_share', hue='city', data=underrepresented_prices)\n",
    "plt.title('Underrepresented Price Ranges by City')\n",
    "plt.xlabel('Price Range')\n",
    "plt.ylabel('Market Share')\n",
    "plt.xticks(rotation=45)\n",
    "plt.legend(title='City')\n",
    "plt.tight_layout()\n",
    "plt.show()"
   ]
  }
 ],
 "metadata": {
  "language_info": {
   "name": "python"
  }
 },
 "nbformat": 4,
 "nbformat_minor": 2
}
